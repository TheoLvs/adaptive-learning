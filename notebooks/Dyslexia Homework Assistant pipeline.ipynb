{
 "cells": [
  {
   "cell_type": "markdown",
   "metadata": {},
   "source": [
    "# Dyslexia Homework Assistant Pipeline"
   ]
  },
  {
   "cell_type": "code",
   "execution_count": 2,
   "metadata": {
    "ExecuteTime": {
     "end_time": "2020-09-05T09:20:36.015217Z",
     "start_time": "2020-09-05T09:20:35.915743Z"
    }
   },
   "outputs": [
    {
     "name": "stdout",
     "output_type": "stream",
     "text": [
      "The autoreload extension is already loaded. To reload it, use:\n",
      "  %reload_ext autoreload\n"
     ]
    }
   ],
   "source": [
    "# Base Data Science snippet\n",
    "import pandas as pd\n",
    "import numpy as np\n",
    "import matplotlib.pyplot as plt\n",
    "import os\n",
    "import time\n",
    "from tqdm import tqdm_notebook\n",
    "\n",
    "%matplotlib inline\n",
    "%load_ext autoreload\n",
    "%autoreload 2"
   ]
  },
  {
   "cell_type": "markdown",
   "metadata": {},
   "source": [
    "# Step 1: Image processing"
   ]
  },
  {
   "cell_type": "markdown",
   "metadata": {},
   "source": [
    "# Step 2: OCR"
   ]
  },
  {
   "cell_type": "markdown",
   "metadata": {},
   "source": [
    "# Step 3: Hyphenation"
   ]
  },
  {
   "cell_type": "code",
   "execution_count": 4,
   "metadata": {
    "ExecuteTime": {
     "end_time": "2020-09-05T09:51:39.309427Z",
     "start_time": "2020-09-05T09:51:39.190340Z"
    }
   },
   "outputs": [
    {
     "data": {
      "text/plain": [
       "\" L'apparition du vif ne fait qu'une avec celle de la vie organisée, à la fois parce que la vie ne peut surgir du chaos qu'en apportant en quelque sorte une plus-value de consistance à un ensemble dilapidé de forces et de matériaux ; et à la fois parce que l'énergie nécessaire à cette consistance, l'énergie qui va opérer les densifications, les articulations et assurer le lien, l'énergie qui va tout aussi bien enfler les vides, des fentes, truffer la matière, intercaler les forces, aménager les intervalles qui aèrent et donc cohèrent le vivant, cette énergie ne peut venir que d'une force terrible, aussi ténue soit-elle, qui est le vif.\""
      ]
     },
     "execution_count": 4,
     "metadata": {},
     "output_type": "execute_result"
    }
   ],
   "source": [
    "sample_text = \"\"\" L'apparition du vif ne fait qu'une avec celle de la vie organisée, à la fois parce que la vie ne peut surgir du chaos qu'en apportant en quelque sorte une plus-value de consistance à un ensemble dilapidé de forces et de matériaux ; et à la fois parce que l'énergie nécessaire à cette consistance, l'énergie qui va opérer les densifications, les articulations et assurer le lien, l'énergie qui va tout aussi bien enfler les vides, des fentes, truffer la matière, intercaler les forces, aménager les intervalles qui aèrent et donc cohèrent le vivant, cette énergie ne peut venir que d'une force terrible, aussi ténue soit-elle, qui est le vif.\"\"\"\n",
    "sample_text"
   ]
  },
  {
   "cell_type": "markdown",
   "metadata": {},
   "source": [
    "## Tokenization"
   ]
  },
  {
   "cell_type": "code",
   "execution_count": 51,
   "metadata": {
    "ExecuteTime": {
     "end_time": "2020-09-05T17:29:05.529738Z",
     "start_time": "2020-09-05T17:29:05.257579Z"
    }
   },
   "outputs": [],
   "source": [
    "from nltk.tokenize import wordpunct_tokenize,word_tokenize"
   ]
  },
  {
   "cell_type": "code",
   "execution_count": 9,
   "metadata": {
    "ExecuteTime": {
     "end_time": "2020-09-05T16:49:48.844047Z",
     "start_time": "2020-09-05T16:49:48.689657Z"
    }
   },
   "outputs": [
    {
     "data": {
      "text/plain": [
       "['L', \"'\", 'apparition', 'du', 'vif', 'ne', 'fait', 'qu', \"'\", 'une']"
      ]
     },
     "execution_count": 9,
     "metadata": {},
     "output_type": "execute_result"
    }
   ],
   "source": [
    "sample_tokens = wordpunct_tokenize(sample_text)\n",
    "sample_tokens[:10]"
   ]
  },
  {
   "cell_type": "code",
   "execution_count": 52,
   "metadata": {
    "ExecuteTime": {
     "end_time": "2020-09-05T17:29:11.612659Z",
     "start_time": "2020-09-05T17:29:11.307994Z"
    }
   },
   "outputs": [
    {
     "data": {
      "text/plain": [
       "[\"L'apparition\",\n",
       " 'du',\n",
       " 'vif',\n",
       " 'ne',\n",
       " 'fait',\n",
       " \"qu'une\",\n",
       " 'avec',\n",
       " 'celle',\n",
       " 'de',\n",
       " 'la']"
      ]
     },
     "execution_count": 52,
     "metadata": {},
     "output_type": "execute_result"
    }
   ],
   "source": [
    "sample_tokens = word_tokenize(sample_text)\n",
    "sample_tokens[:10]"
   ]
  },
  {
   "cell_type": "markdown",
   "metadata": {},
   "source": [
    "## Hyphenation"
   ]
  },
  {
   "cell_type": "code",
   "execution_count": 12,
   "metadata": {
    "ExecuteTime": {
     "end_time": "2020-09-05T16:51:28.391445Z",
     "start_time": "2020-09-05T16:51:28.048958Z"
    }
   },
   "outputs": [],
   "source": [
    "import pyphen\n",
    "dic = pyphen.Pyphen(lang='fr')"
   ]
  },
  {
   "cell_type": "code",
   "execution_count": 18,
   "metadata": {
    "ExecuteTime": {
     "end_time": "2020-09-05T16:57:09.394581Z",
     "start_time": "2020-09-05T16:57:09.232914Z"
    }
   },
   "outputs": [
    {
     "data": {
      "text/plain": [
       "\"je m'ap-pel-le -dys-lexia, u-ne IA -pour ai-der -les en-fants -dys-lexi-ques à -fai-re -leurs -de-voirs\""
      ]
     },
     "execution_count": 18,
     "metadata": {},
     "output_type": "execute_result"
    }
   ],
   "source": [
    "sample_text2 = \"je m'appelle dyslexia, une IA pour aider les enfants dyslexiques à faire leurs devoirs\"\n",
    "dic.inserted(sample_text2)"
   ]
  },
  {
   "cell_type": "code",
   "execution_count": 95,
   "metadata": {
    "ExecuteTime": {
     "end_time": "2020-09-05T17:42:27.897861Z",
     "start_time": "2020-09-05T17:42:27.604857Z"
    }
   },
   "outputs": [
    {
     "data": {
      "text/plain": [
       "'an-ti-cons-ti-tu-tion-nel-le-ment'"
      ]
     },
     "execution_count": 95,
     "metadata": {},
     "output_type": "execute_result"
    }
   ],
   "source": [
    "dic.inserted(\"anticonstitutionnellement\")"
   ]
  },
  {
   "cell_type": "code",
   "execution_count": 56,
   "metadata": {
    "ExecuteTime": {
     "end_time": "2020-09-05T17:30:51.264622Z",
     "start_time": "2020-09-05T17:30:50.965494Z"
    }
   },
   "outputs": [],
   "source": [
    "def hyphenize_text(text):\n",
    "    tokens = word_tokenize(text)\n",
    "    tokens = [dic.inserted(token,hyphen = '|') for token in tokens]\n",
    "    return tokens"
   ]
  },
  {
   "cell_type": "code",
   "execution_count": 57,
   "metadata": {
    "ExecuteTime": {
     "end_time": "2020-09-05T17:30:51.762867Z",
     "start_time": "2020-09-05T17:30:51.452479Z"
    }
   },
   "outputs": [
    {
     "data": {
      "text/plain": [
       "['je',\n",
       " \"m'ap|pelle\",\n",
       " 'dys|lexia',\n",
       " ',',\n",
       " 'une',\n",
       " 'IA',\n",
       " 'pour',\n",
       " 'ai|der',\n",
       " 'les',\n",
       " 'en|fants',\n",
       " 'dys|lexiques',\n",
       " 'à',\n",
       " 'faire',\n",
       " 'leurs',\n",
       " 'de|voirs']"
      ]
     },
     "execution_count": 57,
     "metadata": {},
     "output_type": "execute_result"
    }
   ],
   "source": [
    "hyphenize_text(sample_text2)"
   ]
  },
  {
   "cell_type": "markdown",
   "metadata": {},
   "source": [
    "# Step 4: Custom dyslexia rendering"
   ]
  },
  {
   "cell_type": "markdown",
   "metadata": {},
   "source": [
    "Goal: create an html from the hyphenized text with different colors by syllable and using specific dyslexic font"
   ]
  },
  {
   "cell_type": "code",
   "execution_count": 87,
   "metadata": {
    "ExecuteTime": {
     "end_time": "2020-09-05T17:41:36.081661Z",
     "start_time": "2020-09-05T17:41:35.806656Z"
    }
   },
   "outputs": [],
   "source": [
    "import seaborn as sns\n",
    "from IPython.display import HTML,display\n",
    "\n",
    "\n",
    "def make_palette(n,name = \"husl\",as_hex = True):\n",
    "    convert_hex = lambda r,g,b : '#%02x%02x%02x' % tuple(map(lambda x : int(x*255),(r,g,b)))\n",
    "    colors = sns.color_palette(name,n)\n",
    "    if as_hex:\n",
    "        colors = [convert_hex(*color) for color in colors]\n",
    "    return colors\n",
    "\n",
    "def make_html(text,font = 'Arial Black',font_size = 18,render = True):\n",
    "    if \" \" in font:\n",
    "        font = f\"'{font}'\"\n",
    "    html = f\"\"\"<p style=\"font-family:{font};font-size:{font_size}px\">{text}</p>\"\"\"\n",
    "    if render:\n",
    "        return display(HTML(html))\n",
    "    else:\n",
    "        return html"
   ]
  },
  {
   "cell_type": "code",
   "execution_count": 108,
   "metadata": {
    "ExecuteTime": {
     "end_time": "2020-09-05T17:45:21.273606Z",
     "start_time": "2020-09-05T17:45:20.964719Z"
    }
   },
   "outputs": [],
   "source": [
    "def custom_rendering_text(tokens,palette = \"colorblind\"):\n",
    "    html = []\n",
    "    for token in tokens:\n",
    "        html_token = \"\"\n",
    "        syllables = token.split(\"|\")\n",
    "        if len(syllables) == 1:\n",
    "            colors = [\"#000000\"]\n",
    "        else:\n",
    "            colors = make_palette(len(syllables),palette)\n",
    "        for color,syl in zip(colors,syllables):\n",
    "            html_syl = f\"\"\"<span style=\"color:{color}\">{syl}</span>\"\"\"\n",
    "            html_token += html_syl\n",
    "            \n",
    "        html.append(html_token)\n",
    "        \n",
    "    html = \" \".join(html)\n",
    "    \n",
    "    return html\n",
    "\n",
    "def dyslexia_text_pipeline(text,palette = \"colorblind\",font = \"Trebuchet MS\",font_size = 18,render = True):\n",
    "    tokens = hyphenize_text(text)\n",
    "    html = custom_rendering_text(tokens,palette)\n",
    "    html = make_html(html,font,font_size,render)\n",
    "    return html"
   ]
  },
  {
   "cell_type": "code",
   "execution_count": 109,
   "metadata": {
    "ExecuteTime": {
     "end_time": "2020-09-05T17:45:21.616851Z",
     "start_time": "2020-09-05T17:45:21.332551Z"
    }
   },
   "outputs": [
    {
     "data": {
      "text/html": [
       "<p style=\"font-family:'Trebuchet MS';font-size:18px\"><span style=\"color:#000000\">je</span> <span style=\"color:#0173b2\">m'ap</span><span style=\"color:#de8f05\">pelle</span> <span style=\"color:#0173b2\">dys</span><span style=\"color:#de8f05\">lexia</span> <span style=\"color:#000000\">,</span> <span style=\"color:#000000\">une</span> <span style=\"color:#000000\">IA</span> <span style=\"color:#000000\">pour</span> <span style=\"color:#0173b2\">ai</span><span style=\"color:#de8f05\">der</span> <span style=\"color:#000000\">les</span> <span style=\"color:#0173b2\">en</span><span style=\"color:#de8f05\">fants</span> <span style=\"color:#0173b2\">dys</span><span style=\"color:#de8f05\">lexiques</span> <span style=\"color:#000000\">à</span> <span style=\"color:#000000\">faire</span> <span style=\"color:#000000\">leurs</span> <span style=\"color:#0173b2\">de</span><span style=\"color:#de8f05\">voirs</span></p>"
      ],
      "text/plain": [
       "<IPython.core.display.HTML object>"
      ]
     },
     "metadata": {},
     "output_type": "display_data"
    }
   ],
   "source": [
    "dyslexia_text_pipeline(sample_text2)"
   ]
  },
  {
   "cell_type": "code",
   "execution_count": 110,
   "metadata": {
    "ExecuteTime": {
     "end_time": "2020-09-05T17:45:22.053719Z",
     "start_time": "2020-09-05T17:45:21.736375Z"
    }
   },
   "outputs": [
    {
     "data": {
      "text/html": [
       "<p style=\"font-family:'Trebuchet MS';font-size:18px\"><span style=\"color:#0173b2\">L'ap</span><span style=\"color:#de8f05\">pa</span><span style=\"color:#029e73\">ri</span><span style=\"color:#d55e00\">tion</span> <span style=\"color:#000000\">du</span> <span style=\"color:#000000\">vif</span> <span style=\"color:#000000\">ne</span> <span style=\"color:#000000\">fait</span> <span style=\"color:#000000\">qu'une</span> <span style=\"color:#000000\">avec</span> <span style=\"color:#000000\">celle</span> <span style=\"color:#000000\">de</span> <span style=\"color:#000000\">la</span> <span style=\"color:#000000\">vie</span> <span style=\"color:#0173b2\">or</span><span style=\"color:#de8f05\">ga</span><span style=\"color:#029e73\">ni</span><span style=\"color:#d55e00\">sée</span> <span style=\"color:#000000\">,</span> <span style=\"color:#000000\">à</span> <span style=\"color:#000000\">la</span> <span style=\"color:#000000\">fois</span> <span style=\"color:#000000\">parce</span> <span style=\"color:#000000\">que</span> <span style=\"color:#000000\">la</span> <span style=\"color:#000000\">vie</span> <span style=\"color:#000000\">ne</span> <span style=\"color:#000000\">peut</span> <span style=\"color:#0173b2\">sur</span><span style=\"color:#de8f05\">gir</span> <span style=\"color:#000000\">du</span> <span style=\"color:#000000\">chaos</span> <span style=\"color:#000000\">qu'en</span> <span style=\"color:#0173b2\">ap</span><span style=\"color:#de8f05\">por</span><span style=\"color:#029e73\">tant</span> <span style=\"color:#000000\">en</span> <span style=\"color:#000000\">quelque</span> <span style=\"color:#000000\">sorte</span> <span style=\"color:#000000\">une</span> <span style=\"color:#0173b2\">plus-</span><span style=\"color:#de8f05\">va</span><span style=\"color:#029e73\">lue</span> <span style=\"color:#000000\">de</span> <span style=\"color:#0173b2\">consis</span><span style=\"color:#de8f05\">tance</span> <span style=\"color:#000000\">à</span> <span style=\"color:#000000\">un</span> <span style=\"color:#0173b2\">en</span><span style=\"color:#de8f05\">semble</span> <span style=\"color:#0173b2\">di</span><span style=\"color:#de8f05\">la</span><span style=\"color:#029e73\">pi</span><span style=\"color:#d55e00\">dé</span> <span style=\"color:#000000\">de</span> <span style=\"color:#000000\">forces</span> <span style=\"color:#000000\">et</span> <span style=\"color:#000000\">de</span> <span style=\"color:#0173b2\">ma</span><span style=\"color:#de8f05\">té</span><span style=\"color:#029e73\">riaux</span> <span style=\"color:#000000\">;</span> <span style=\"color:#000000\">et</span> <span style=\"color:#000000\">à</span> <span style=\"color:#000000\">la</span> <span style=\"color:#000000\">fois</span> <span style=\"color:#000000\">parce</span> <span style=\"color:#000000\">que</span> <span style=\"color:#0173b2\">l'éner</span><span style=\"color:#de8f05\">gie</span> <span style=\"color:#0173b2\">né</span><span style=\"color:#de8f05\">ces</span><span style=\"color:#029e73\">saire</span> <span style=\"color:#000000\">à</span> <span style=\"color:#000000\">cette</span> <span style=\"color:#0173b2\">consis</span><span style=\"color:#de8f05\">tance</span> <span style=\"color:#000000\">,</span> <span style=\"color:#0173b2\">l'éner</span><span style=\"color:#de8f05\">gie</span> <span style=\"color:#000000\">qui</span> <span style=\"color:#000000\">va</span> <span style=\"color:#0173b2\">opé</span><span style=\"color:#de8f05\">rer</span> <span style=\"color:#000000\">les</span> <span style=\"color:#0173b2\">den</span><span style=\"color:#de8f05\">si</span><span style=\"color:#029e73\">fi</span><span style=\"color:#d55e00\">ca</span><span style=\"color:#cc78bc\">tions</span> <span style=\"color:#000000\">,</span> <span style=\"color:#000000\">les</span> <span style=\"color:#0173b2\">ar</span><span style=\"color:#de8f05\">ti</span><span style=\"color:#029e73\">cu</span><span style=\"color:#d55e00\">la</span><span style=\"color:#cc78bc\">tions</span> <span style=\"color:#000000\">et</span> <span style=\"color:#0173b2\">as</span><span style=\"color:#de8f05\">su</span><span style=\"color:#029e73\">rer</span> <span style=\"color:#000000\">le</span> <span style=\"color:#000000\">lien</span> <span style=\"color:#000000\">,</span> <span style=\"color:#0173b2\">l'éner</span><span style=\"color:#de8f05\">gie</span> <span style=\"color:#000000\">qui</span> <span style=\"color:#000000\">va</span> <span style=\"color:#000000\">tout</span> <span style=\"color:#0173b2\">aus</span><span style=\"color:#de8f05\">si</span> <span style=\"color:#000000\">bien</span> <span style=\"color:#0173b2\">en</span><span style=\"color:#de8f05\">fler</span> <span style=\"color:#000000\">les</span> <span style=\"color:#000000\">vides</span> <span style=\"color:#000000\">,</span> <span style=\"color:#000000\">des</span> <span style=\"color:#000000\">fentes</span> <span style=\"color:#000000\">,</span> <span style=\"color:#0173b2\">truf</span><span style=\"color:#de8f05\">fer</span> <span style=\"color:#000000\">la</span> <span style=\"color:#0173b2\">ma</span><span style=\"color:#de8f05\">tière</span> <span style=\"color:#000000\">,</span> <span style=\"color:#0173b2\">in</span><span style=\"color:#de8f05\">ter</span><span style=\"color:#029e73\">ca</span><span style=\"color:#d55e00\">ler</span> <span style=\"color:#000000\">les</span> <span style=\"color:#000000\">forces</span> <span style=\"color:#000000\">,</span> <span style=\"color:#0173b2\">amé</span><span style=\"color:#de8f05\">na</span><span style=\"color:#029e73\">ger</span> <span style=\"color:#000000\">les</span> <span style=\"color:#0173b2\">in</span><span style=\"color:#de8f05\">ter</span><span style=\"color:#029e73\">valles</span> <span style=\"color:#000000\">qui</span> <span style=\"color:#000000\">aèrent</span> <span style=\"color:#000000\">et</span> <span style=\"color:#000000\">donc</span> <span style=\"color:#0173b2\">co</span><span style=\"color:#de8f05\">hèrent</span> <span style=\"color:#000000\">le</span> <span style=\"color:#0173b2\">vi</span><span style=\"color:#de8f05\">vant</span> <span style=\"color:#000000\">,</span> <span style=\"color:#000000\">cette</span> <span style=\"color:#0173b2\">éner</span><span style=\"color:#de8f05\">gie</span> <span style=\"color:#000000\">ne</span> <span style=\"color:#000000\">peut</span> <span style=\"color:#0173b2\">ve</span><span style=\"color:#de8f05\">nir</span> <span style=\"color:#000000\">que</span> <span style=\"color:#000000\">d'une</span> <span style=\"color:#000000\">force</span> <span style=\"color:#0173b2\">ter</span><span style=\"color:#de8f05\">rible</span> <span style=\"color:#000000\">,</span> <span style=\"color:#0173b2\">aus</span><span style=\"color:#de8f05\">si</span> <span style=\"color:#0173b2\">té</span><span style=\"color:#de8f05\">nue</span> <span style=\"color:#0173b2\">soit-</span><span style=\"color:#de8f05\">elle</span> <span style=\"color:#000000\">,</span> <span style=\"color:#000000\">qui</span> <span style=\"color:#000000\">est</span> <span style=\"color:#000000\">le</span> <span style=\"color:#000000\">vif</span> <span style=\"color:#000000\">.</span></p>"
      ],
      "text/plain": [
       "<IPython.core.display.HTML object>"
      ]
     },
     "metadata": {},
     "output_type": "display_data"
    }
   ],
   "source": [
    "dyslexia_text_pipeline(sample_text)"
   ]
  }
 ],
 "metadata": {
  "kernelspec": {
   "display_name": "Python 3",
   "language": "python",
   "name": "python3"
  },
  "language_info": {
   "codemirror_mode": {
    "name": "ipython",
    "version": 3
   },
   "file_extension": ".py",
   "mimetype": "text/x-python",
   "name": "python",
   "nbconvert_exporter": "python",
   "pygments_lexer": "ipython3",
   "version": "3.7.4"
  },
  "toc": {
   "base_numbering": 1,
   "nav_menu": {},
   "number_sections": true,
   "sideBar": true,
   "skip_h1_title": false,
   "title_cell": "Table of Contents",
   "title_sidebar": "Contents",
   "toc_cell": false,
   "toc_position": {},
   "toc_section_display": true,
   "toc_window_display": false
  }
 },
 "nbformat": 4,
 "nbformat_minor": 2
}
